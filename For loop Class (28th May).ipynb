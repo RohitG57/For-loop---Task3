{
 "cells": [
  {
   "cell_type": "raw",
   "id": "1a9d1f66",
   "metadata": {},
   "source": [
    "q1 :\n",
    "ineruon \n",
    "ineruon ineruon \n",
    "ineruon ineruon ineruon\n",
    "ineruon ineruon ineruon ineruon\n",
    "\n",
    "q2 - \n",
    "\n",
    "          ineruon\n",
    "    ineruon      ineruon\n",
    "ineruon\t\tineruon \tineruon\n",
    "\tineruon\t\t ineruon\n",
    "\t\t  ineruon\n",
    "\n",
    "l = [[1,2,3,4] , (2,3,4,5,6) , (3,4,5,6,7) , set([23,4,5,45,4,4,5,45,45,4,5]) , {'k1' :\"sudh\" , \"k2\" : \"ineuron\",\"k3\":\n",
    "            \"kumar\" , 3:6 , 7:8} , [\"ineuron\" , \"data science \"]]\n",
    "\n",
    "q3 : Try to extract all the list entity \n",
    "q4 : Try to extract all the dict enteties\n",
    "q5 : Try to extract all the tuples entities\n",
    "q6 : Try to extract all the numerical data it may b a part of dict key and values \n",
    "q7 : Try to give summation of all the numeric data \n",
    "q8 : Try to filter out all the odd values out all numeric data which is a part of a list \n",
    "q9 : Try to extract \"ineruon\" out of this data\n",
    "q10 :Try to find out a number of occurances of all the data \n",
    "q11 : Try to find out number of keys in dict element\n",
    "q12 : Try to filter out all the string data \n",
    "q13 : Try to Find  out alphanum in data\n",
    "q14 : Try to find out multiplication of all numeric value in  the individual collection inside dataset \n",
    "q15 : Try to unwrape all the collection inside collection and create a flat list \n",
    "    \n",
    "    \n",
    "before 29th may 2022 3 PM IST you have to send an answer to me or to shivan \n",
    "sudhanshu@ineuron.ai\n",
    "shivan@ineuron.ai"
   ]
  },
  {
   "cell_type": "code",
   "execution_count": 1,
   "id": "1b995829",
   "metadata": {},
   "outputs": [],
   "source": [
    "# Que. 1  \n",
    "# ineruon \n",
    "# ineruon ineruon \n",
    "# ineruon ineruon ineruon\n",
    "# ineruon ineruon ineruon ineruon"
   ]
  },
  {
   "cell_type": "code",
   "execution_count": 2,
   "id": "30784b2e",
   "metadata": {},
   "outputs": [
    {
     "name": "stdout",
     "output_type": "stream",
     "text": [
      "ineuron \n",
      "ineuron ineuron \n",
      "ineuron ineuron ineuron \n",
      "ineuron ineuron ineuron ineuron \n"
     ]
    }
   ],
   "source": [
    "n = 4\n",
    "for i in range(n) :\n",
    "    for j in range(0, i+1) :\n",
    "        print(\"ineuron\", end = \" \")\n",
    "    print()"
   ]
  },
  {
   "cell_type": "code",
   "execution_count": 3,
   "id": "6f31b9c3",
   "metadata": {},
   "outputs": [],
   "source": [
    "# Que. 2 \n",
    "\n",
    "#          ineruon\n",
    "#    ineruon      ineruon\n",
    "#ineruon\t\tineruon \tineruon\n",
    "#  \tineruon\t\t ineruon\n",
    "#  \t\t  ineruon"
   ]
  },
  {
   "cell_type": "code",
   "execution_count": 4,
   "id": "b098316e",
   "metadata": {},
   "outputs": [
    {
     "name": "stdout",
     "output_type": "stream",
     "text": [
      "                        ineuron \n",
      "                ineuron ineuron ineuron \n",
      "        ineuron ineuron ineuron ineuron ineuron \n",
      "                ineuron ineuron ineuron \n",
      "                        ineuron \n"
     ]
    }
   ],
   "source": [
    "n=3\n",
    "for i in range(n-1):\n",
    "    for j in range(i,n):\n",
    "        print(\" \"*7,end=\" \")\n",
    "    for j in range(i):\n",
    "        print(\"ineuron\",end=\" \")\n",
    "    for j in range(i+1):\n",
    "        print(\"ineuron\",end=\" \")\n",
    "    print()\n",
    "for i in range(n):    \n",
    "    for j in range(i+1):\n",
    "        print(\" \"*7,end=\" \")\n",
    "    for j in range(i,n-1):\n",
    "        print(\"ineuron\",end=\" \")\n",
    "    for j in range(i,n):\n",
    "        print(\"ineuron\",end=\" \")\n",
    "    print()\n"
   ]
  },
  {
   "cell_type": "code",
   "execution_count": 5,
   "id": "49372fbd",
   "metadata": {},
   "outputs": [],
   "source": [
    "# Que. 3 Try to extract all the list entity "
   ]
  },
  {
   "cell_type": "code",
   "execution_count": 6,
   "id": "046539a1",
   "metadata": {},
   "outputs": [],
   "source": [
    "l = [[1,2,3,4] , (2,3,4,5,6) , (3,4,5,6,7) , set([23,4,5,45,4,4,5,45,45,4,5]) , {'k1' :\"sudh\" , \"k2\" : \"ineuron\",\"k3\":\"kumar\" , 3:6 , 7:8} , [\"ineuron\" , \"data science \"]]"
   ]
  },
  {
   "cell_type": "code",
   "execution_count": 7,
   "id": "3b96ca39",
   "metadata": {},
   "outputs": [
    {
     "name": "stdout",
     "output_type": "stream",
     "text": [
      "[1, 2, 3, 4]\n",
      "['ineuron', 'data science ']\n"
     ]
    }
   ],
   "source": [
    "for i in l : \n",
    "    if type(i) == list :\n",
    "        print(i)"
   ]
  },
  {
   "cell_type": "code",
   "execution_count": 8,
   "id": "b87f85d0",
   "metadata": {},
   "outputs": [],
   "source": [
    "# Que. 4 Try to extract all the dict enteties"
   ]
  },
  {
   "cell_type": "code",
   "execution_count": 9,
   "id": "ef1ac2a7",
   "metadata": {},
   "outputs": [
    {
     "name": "stdout",
     "output_type": "stream",
     "text": [
      "{'k1': 'sudh', 'k2': 'ineuron', 'k3': 'kumar', 3: 6, 7: 8}\n"
     ]
    }
   ],
   "source": [
    "for i in l :\n",
    "    if type(i) == dict :\n",
    "        print(i)"
   ]
  },
  {
   "cell_type": "code",
   "execution_count": 10,
   "id": "a91b3147",
   "metadata": {},
   "outputs": [],
   "source": [
    "# Que. 5 Try to extract all the tuples entities"
   ]
  },
  {
   "cell_type": "code",
   "execution_count": 11,
   "id": "d46c1925",
   "metadata": {},
   "outputs": [
    {
     "name": "stdout",
     "output_type": "stream",
     "text": [
      "(2, 3, 4, 5, 6)\n",
      "(3, 4, 5, 6, 7)\n"
     ]
    }
   ],
   "source": [
    "for i in l :\n",
    "    if type(i) == tuple :\n",
    "        print(i)"
   ]
  },
  {
   "cell_type": "code",
   "execution_count": 12,
   "id": "783d878f",
   "metadata": {},
   "outputs": [],
   "source": [
    "# Que. 6 Try to extract all the numerical data it may b a part of dict key and values"
   ]
  },
  {
   "cell_type": "code",
   "execution_count": 13,
   "id": "43772997",
   "metadata": {},
   "outputs": [
    {
     "name": "stdout",
     "output_type": "stream",
     "text": [
      "1\n",
      "2\n",
      "3\n",
      "4\n",
      "2\n",
      "3\n",
      "4\n",
      "5\n",
      "6\n",
      "3\n",
      "4\n",
      "5\n",
      "6\n",
      "7\n",
      "45\n",
      "4\n",
      "5\n",
      "23\n",
      "3\n",
      "6\n",
      "7\n",
      "8\n"
     ]
    }
   ],
   "source": [
    "for i in l :\n",
    "    if type(i) == list or type(i) == tuple or type(i) == set :\n",
    "        for j in i :\n",
    "            if type(j) == int:\n",
    "                print(j)\n",
    "    if type(i) == dict:\n",
    "        for k,v in i.items():\n",
    "            if type(k) == int or type(v) == int:\n",
    "                print(k)\n",
    "                print(v)"
   ]
  },
  {
   "cell_type": "code",
   "execution_count": 14,
   "id": "02ef884f",
   "metadata": {},
   "outputs": [
    {
     "data": {
      "text/plain": [
       "[[1, 2, 3, 4],\n",
       " (2, 3, 4, 5, 6),\n",
       " (3, 4, 5, 6, 7),\n",
       " {4, 5, 23, 45},\n",
       " {'k1': 'sudh', 'k2': 'ineuron', 'k3': 'kumar', 3: 6, 7: 8},\n",
       " ['ineuron', 'data science ']]"
      ]
     },
     "execution_count": 14,
     "metadata": {},
     "output_type": "execute_result"
    }
   ],
   "source": [
    "l"
   ]
  },
  {
   "cell_type": "code",
   "execution_count": 15,
   "id": "9bf8c75b",
   "metadata": {},
   "outputs": [],
   "source": [
    "# Que. 7 Try to give summation of all the numeric data "
   ]
  },
  {
   "cell_type": "code",
   "execution_count": 16,
   "id": "f4a14e47",
   "metadata": {},
   "outputs": [
    {
     "name": "stdout",
     "output_type": "stream",
     "text": [
      "156\n"
     ]
    }
   ],
   "source": [
    "sum = 0 \n",
    "for i in l :\n",
    "    if type(i) == list or type(i) == tuple or type(i) == set :\n",
    "        for j in i :\n",
    "            if type(j) == int:\n",
    "                sum+=j\n",
    "    if type(i) == dict:\n",
    "        for k,v in i.items():\n",
    "            if type(k) == int or type(v) == int:\n",
    "                sum+=k\n",
    "                sum+=v\n",
    "print(sum)"
   ]
  },
  {
   "cell_type": "code",
   "execution_count": 17,
   "id": "62be0210",
   "metadata": {},
   "outputs": [],
   "source": [
    "# Que. 8 Try to filter out all the odd values out all numeric data which is a part of a list"
   ]
  },
  {
   "cell_type": "code",
   "execution_count": 18,
   "id": "cf585351",
   "metadata": {},
   "outputs": [
    {
     "name": "stdout",
     "output_type": "stream",
     "text": [
      "[1, 2, 3, 4, 2, 3, 4, 5, 6, 3, 4, 5, 6, 7, 45, 4, 5, 23, 3, 6, 7, 8]\n",
      "[1, 3, 3, 5, 3, 5, 7, 45, 5, 23, 3, 7]\n",
      "[2, 4, 2, 4, 6, 4, 6, 4, 6, 8]\n"
     ]
    }
   ],
   "source": [
    "num = []\n",
    "odd = []\n",
    "even = []\n",
    "for i in l :\n",
    "    if type(i) == list or type(i) == tuple or type(i) == set :\n",
    "        for j in i :\n",
    "            if type(j) == int:\n",
    "                num.append(j)\n",
    "    if type(i) == dict:\n",
    "        for k,v in i.items():\n",
    "            if type(k) == int or type(v) == int:\n",
    "                num.append(k)\n",
    "                num.append(v)\n",
    "print(num) \n",
    "for x in num:\n",
    "    if x%2 == 0:\n",
    "        even.append(x)\n",
    "    else:\n",
    "        odd.append(x)\n",
    "print (odd)\n",
    "print (even)"
   ]
  },
  {
   "cell_type": "code",
   "execution_count": 19,
   "id": "ece0cb77",
   "metadata": {},
   "outputs": [],
   "source": [
    "# Que. 9  Try to extract \"ineruon\" out of this data"
   ]
  },
  {
   "cell_type": "code",
   "execution_count": 20,
   "id": "436d8a97",
   "metadata": {},
   "outputs": [
    {
     "data": {
      "text/plain": [
       "[[1, 2, 3, 4],\n",
       " (2, 3, 4, 5, 6),\n",
       " (3, 4, 5, 6, 7),\n",
       " {4, 5, 23, 45},\n",
       " {'k1': 'sudh', 'k2': 'ineuron', 'k3': 'kumar', 3: 6, 7: 8},\n",
       " ['ineuron', 'data science ']]"
      ]
     },
     "execution_count": 20,
     "metadata": {},
     "output_type": "execute_result"
    }
   ],
   "source": [
    "l"
   ]
  },
  {
   "cell_type": "code",
   "execution_count": 21,
   "id": "46b55592",
   "metadata": {},
   "outputs": [
    {
     "name": "stdout",
     "output_type": "stream",
     "text": [
      "ineuron\n",
      "ineuron\n"
     ]
    }
   ],
   "source": [
    "for i in l :\n",
    "    if type(i) == list or type(i) == tuple or type(i) == set :\n",
    "        for j in i :\n",
    "            if j == \"ineuron\" :\n",
    "                print(j)\n",
    "    if type(i) == dict :\n",
    "        for k in i.values() :\n",
    "            if k == \"ineuron\" :\n",
    "                print(k)"
   ]
  },
  {
   "cell_type": "code",
   "execution_count": 22,
   "id": "ebabd2af",
   "metadata": {},
   "outputs": [],
   "source": [
    "# Que. 10 Try to find out a number of occurances of all the data "
   ]
  },
  {
   "cell_type": "code",
   "execution_count": 23,
   "id": "2d6cf9f4",
   "metadata": {},
   "outputs": [
    {
     "data": {
      "text/plain": [
       "[[1, 2, 3, 4],\n",
       " (2, 3, 4, 5, 6),\n",
       " (3, 4, 5, 6, 7),\n",
       " {4, 5, 23, 45},\n",
       " {'k1': 'sudh', 'k2': 'ineuron', 'k3': 'kumar', 3: 6, 7: 8},\n",
       " ['ineuron', 'data science ']]"
      ]
     },
     "execution_count": 23,
     "metadata": {},
     "output_type": "execute_result"
    }
   ],
   "source": [
    "l"
   ]
  },
  {
   "cell_type": "code",
   "execution_count": 24,
   "id": "11aaa677",
   "metadata": {},
   "outputs": [
    {
     "name": "stdout",
     "output_type": "stream",
     "text": [
      "k2 : 1\n",
      "1 : 1\n",
      "2 : 2\n",
      "3 : 4\n",
      "4 : 4\n",
      "5 : 3\n",
      "6 : 3\n",
      "7 : 2\n",
      "kumar : 1\n",
      "8 : 1\n",
      "sudh : 1\n",
      "data science  : 1\n",
      "45 : 1\n",
      "k3 : 1\n",
      "k1 : 1\n",
      "23 : 1\n",
      "ineuron : 2\n"
     ]
    }
   ],
   "source": [
    "l1 = []\n",
    "for i in l:\n",
    "    if type(i) == list or type(i) == tuple or type(i) == set :\n",
    "        for j in i :\n",
    "            if type(j) == int or type(j) == str:\n",
    "                l1.append(j)\n",
    "    if type(i) == dict :\n",
    "        for k in i.items() : \n",
    "            for g in k :\n",
    "                if type(g) == int  or type(g) == str:\n",
    "                    l1.append(g)\n",
    "for i in set(l1) : \n",
    "    print(i , \":\" ,l1.count(i))"
   ]
  },
  {
   "cell_type": "code",
   "execution_count": 25,
   "id": "5a00df58",
   "metadata": {},
   "outputs": [],
   "source": [
    "# Que. 11 Try to find out number of keys in dict element"
   ]
  },
  {
   "cell_type": "code",
   "execution_count": 26,
   "id": "abbe0d5b",
   "metadata": {},
   "outputs": [
    {
     "name": "stdout",
     "output_type": "stream",
     "text": [
      "5\n"
     ]
    }
   ],
   "source": [
    "for i in l :\n",
    "    if type(i) == dict :\n",
    "        print(len(i.keys()))"
   ]
  },
  {
   "cell_type": "code",
   "execution_count": 27,
   "id": "678415a1",
   "metadata": {},
   "outputs": [],
   "source": [
    "# Que. 12 Try to filter out all the string data "
   ]
  },
  {
   "cell_type": "code",
   "execution_count": 28,
   "id": "115821c1",
   "metadata": {},
   "outputs": [
    {
     "data": {
      "text/plain": [
       "[[1, 2, 3, 4],\n",
       " (2, 3, 4, 5, 6),\n",
       " (3, 4, 5, 6, 7),\n",
       " {4, 5, 23, 45},\n",
       " {'k1': 'sudh', 'k2': 'ineuron', 'k3': 'kumar', 3: 6, 7: 8},\n",
       " ['ineuron', 'data science ']]"
      ]
     },
     "execution_count": 28,
     "metadata": {},
     "output_type": "execute_result"
    }
   ],
   "source": [
    "l"
   ]
  },
  {
   "cell_type": "code",
   "execution_count": 29,
   "id": "9b7c71b3",
   "metadata": {},
   "outputs": [
    {
     "name": "stdout",
     "output_type": "stream",
     "text": [
      "k1\n",
      "sudh\n",
      "k2\n",
      "ineuron\n",
      "k3\n",
      "kumar\n",
      "ineuron\n",
      "data science \n"
     ]
    }
   ],
   "source": [
    "for i in l :\n",
    "    if type(i) == list or type(i) == tuple or type(i) == set :\n",
    "        for j in i :\n",
    "            if type(j) == str :\n",
    "                print(j)\n",
    "    if type(i) == dict :\n",
    "        for k,v in i.items() :\n",
    "            if type(k) == str :\n",
    "                print(k)\n",
    "                print(v)"
   ]
  },
  {
   "cell_type": "code",
   "execution_count": 30,
   "id": "e9dcd0c7",
   "metadata": {},
   "outputs": [],
   "source": [
    "# Que.13 Try to Find  out alphanum in data"
   ]
  },
  {
   "cell_type": "code",
   "execution_count": 31,
   "id": "669ddecd",
   "metadata": {},
   "outputs": [
    {
     "name": "stdout",
     "output_type": "stream",
     "text": [
      "[1, 2, 3, 4, 2, 3, 4, 5, 6, 3, 4, 5, 6, 7, 45, 4, 5, 23, 'k1', 'sudh', 'k2', 'ineuron', 'k3', 'kumar', 3, 6, 7, 8, 'ineuron', 'data science ']\n"
     ]
    }
   ],
   "source": [
    "l1 = []\n",
    "for i in l:\n",
    "    if type(i) == list or type(i) == tuple or type(i) == set :\n",
    "        for j in i :\n",
    "            if type(j) == int or type(j) == str:\n",
    "                l1.append(j)\n",
    "    if type(i) == dict :\n",
    "        for k in i.items() : \n",
    "            for g in k :\n",
    "                if type(g) == int  or type(g) == str:\n",
    "                    l1.append(g)\n",
    "print(l1)"
   ]
  },
  {
   "cell_type": "code",
   "execution_count": 32,
   "id": "0079f9b2",
   "metadata": {},
   "outputs": [],
   "source": [
    "# Que. 14 Try to find out multiplication of all numeric value in  the individual collection inside dataset "
   ]
  },
  {
   "cell_type": "code",
   "execution_count": 33,
   "id": "68159dda",
   "metadata": {},
   "outputs": [
    {
     "data": {
      "text/plain": [
       "[[1, 2, 3, 4],\n",
       " (2, 3, 4, 5, 6),\n",
       " (3, 4, 5, 6, 7),\n",
       " {4, 5, 23, 45},\n",
       " {'k1': 'sudh', 'k2': 'ineuron', 'k3': 'kumar', 3: 6, 7: 8},\n",
       " ['ineuron', 'data science ']]"
      ]
     },
     "execution_count": 33,
     "metadata": {},
     "output_type": "execute_result"
    }
   ],
   "source": [
    "l"
   ]
  },
  {
   "cell_type": "code",
   "execution_count": 34,
   "id": "8132e9cb",
   "metadata": {},
   "outputs": [
    {
     "name": "stdout",
     "output_type": "stream",
     "text": [
      "Multipilcation of <class 'list'> is 24\n",
      "Multipilcation of <class 'tuple'> is 720\n",
      "Multipilcation of <class 'tuple'> is 2520\n",
      "Multipilcation of <class 'set'> is 20700\n",
      "Multipilcation of <class 'dict'> is 1008\n",
      "Multipilcation of <class 'list'> is 1\n"
     ]
    }
   ],
   "source": [
    "for i in l:\n",
    "    m = 1\n",
    "    if type(i) == tuple or type(i) == list or type(i) == set :\n",
    "        for j in i:\n",
    "            if type(j) == int:\n",
    "                m *= j\n",
    "        print('Multipilcation of',type(i),'is',m)\n",
    "    if type(i) == dict:\n",
    "        for k,v in i.items():\n",
    "            if type(k) == int and type(v) == int:\n",
    "                m = m * k\n",
    "                m = m * v\n",
    "        print('Multipilcation of',type(i),'is',m) "
   ]
  },
  {
   "cell_type": "code",
   "execution_count": 35,
   "id": "7cc7bfb5",
   "metadata": {},
   "outputs": [],
   "source": [
    "# Que. 15 Try to unwrape all the collection inside collection and create a flat list "
   ]
  },
  {
   "cell_type": "code",
   "execution_count": 36,
   "id": "40f89469",
   "metadata": {},
   "outputs": [
    {
     "name": "stdout",
     "output_type": "stream",
     "text": [
      "[1, 2, 3, 4, 2, 3, 4, 5, 6, 3, 4, 5, 6, 7, 45, 4, 5, 23, 'k1', 'sudh', 'k2', 'ineuron', 'k3', 'kumar', 3, 6, 7, 8, 'ineuron', 'data science ']\n"
     ]
    }
   ],
   "source": [
    "num = []\n",
    "for i in l :\n",
    "    if type(i) == list or type(i) == tuple or type(i) == set :\n",
    "        for j in i :\n",
    "            num.append(j)\n",
    "    if type(i) == dict:\n",
    "        for k,v in i.items():\n",
    "            num.append(k)\n",
    "            num.append(v)\n",
    "print(num) "
   ]
  }
 ],
 "metadata": {
  "kernelspec": {
   "display_name": "Python 3 (ipykernel)",
   "language": "python",
   "name": "python3"
  },
  "language_info": {
   "codemirror_mode": {
    "name": "ipython",
    "version": 3
   },
   "file_extension": ".py",
   "mimetype": "text/x-python",
   "name": "python",
   "nbconvert_exporter": "python",
   "pygments_lexer": "ipython3",
   "version": "3.9.12"
  }
 },
 "nbformat": 4,
 "nbformat_minor": 5
}
